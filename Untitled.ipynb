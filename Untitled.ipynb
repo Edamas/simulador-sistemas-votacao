{
 "cells": [
  {
   "cell_type": "code",
   "execution_count": 1,
   "id": "e2053c4f-5349-4637-98cd-602ed2cd1861",
   "metadata": {},
   "outputs": [
    {
     "name": "stdout",
     "output_type": "stream",
     "text": [
      "Collecting tk\n",
      "  Downloading tk-0.1.0-py3-none-any.whl.metadata (693 bytes)\n",
      "Downloading tk-0.1.0-py3-none-any.whl (3.9 kB)\n",
      "Installing collected packages: tk\n",
      "Successfully installed tk-0.1.0\n"
     ]
    },
    {
     "name": "stderr",
     "output_type": "stream",
     "text": [
      "\n",
      "[notice] A new release of pip is available: 25.1.1 -> 25.2\n",
      "[notice] To update, run: python.exe -m pip install --upgrade pip\n"
     ]
    }
   ],
   "source": [
    "!pip install tk"
   ]
  },
  {
   "cell_type": "code",
   "execution_count": 2,
   "id": "fc79773c-8875-4793-8114-d1a1a6226530",
   "metadata": {},
   "outputs": [],
   "source": [
    "import tkinter as tk\n",
    "import csv\n",
    "from datetime import datetime\n",
    "\n",
    "def save_vote(x, y):\n",
    "    name = entry_name.get()\n",
    "    birthdate = entry_birthdate.get()\n",
    "    overwrite = False\n",
    "\n",
    "    if name and birthdate:\n",
    "        with open(\"votos.csv\", mode=\"a\", newline=\"\") as file:\n",
    "            writer = csv.writer(file)\n",
    "            writer.writerow([name, birthdate, x, y])\n",
    "        message_label.config(text=\"Voto registrado!\", fg=\"green\")\n",
    "\n",
    "def on_click(event):\n",
    "    global last_x, last_y\n",
    "    x, y = event.x, event.y\n",
    "    canvas.create_oval(x - 5, y - 5, x + 5, y + 5, fill=\"red\")\n",
    "    message_label.config(text=f\"Valor selecionado: ({x}, {y})\")\n",
    "    last_x, last_y = x, y\n",
    "\n",
    "def next_question():\n",
    "    canvas.delete(\"all\")\n",
    "    entry_name.delete(0, \"end\")\n",
    "    entry_birthdate.delete(0, \"end\")\n",
    "    message_label.config(text=\"\")\n",
    "\n",
    "def main():\n",
    "    global canvas, last_x, last_y, message_label\n",
    "\n",
    "    root = tk.Tk()\n",
    "    root.title(\"Pesquisa de Opinião\")\n",
    "\n",
    "    canvas = tk.Canvas(root, width=400, height=300, bg=\"white\")\n",
    "    canvas.pack()\n",
    "\n",
    "    canvas.bind(\"<Button-1>\", on_click)\n",
    "\n",
    "    label_name = tk.Label(root, text=\"Nome:\")\n",
    "    label_name.pack()\n",
    "    entry_name = tk.Entry(root)\n",
    "    entry_name.pack()\n",
    "\n",
    "    label_birthdate = tk.Label(root, text=\"Data de Nascimento:\")\n",
    "    label_birthdate.pack()\n",
    "    entry_birthdate = tk.Entry(root)\n",
    "    entry_birthdate.pack()\n",
    "\n",
    "    register_button = tk.Button(root, text=\"Registrar Voto\", command=lambda: save_vote(last_x, last_y))\n",
    "    register_button.pack()\n",
    "\n",
    "    next_button = tk.Button(root, text=\"Próxima Pergunta\", command=next_question)\n",
    "    next_button.pack()\n",
    "\n",
    "    message_label = tk.Label(root, text=\"\", fg=\"green\")\n",
    "    message_label.pack()\n",
    "\n",
    "    last_x, last_y = 0, 0\n",
    "\n",
    "    root.mainloop()\n",
    "\n",
    "if __name__ == \"__main__\":\n",
    "    main()\n"
   ]
  },
  {
   "cell_type": "code",
   "execution_count": null,
   "id": "899e7bf9-af5f-420e-9634-d030de891c2a",
   "metadata": {},
   "outputs": [],
   "source": [
    "!conda install pygame"
   ]
  },
  {
   "cell_type": "code",
   "execution_count": 13,
   "id": "f0ad7d83-bf7b-47ea-8aa2-f9a0f53d8781",
   "metadata": {},
   "outputs": [
    {
     "ename": "ModuleNotFoundError",
     "evalue": "No module named 'pygame'",
     "output_type": "error",
     "traceback": [
      "\u001b[1;31m---------------------------------------------------------------------------\u001b[0m",
      "\u001b[1;31mModuleNotFoundError\u001b[0m                       Traceback (most recent call last)",
      "\u001b[1;32m~\\AppData\\Local\\Temp\\ipykernel_6364\\1211222519.py\u001b[0m in \u001b[0;36m<module>\u001b[1;34m\u001b[0m\n\u001b[1;32m----> 1\u001b[1;33m \u001b[1;32mimport\u001b[0m \u001b[0mpygame\u001b[0m\u001b[1;33m\u001b[0m\u001b[1;33m\u001b[0m\u001b[0m\n\u001b[0m\u001b[0;32m      2\u001b[0m \u001b[1;32mimport\u001b[0m \u001b[0msys\u001b[0m\u001b[1;33m\u001b[0m\u001b[1;33m\u001b[0m\u001b[0m\n\u001b[0;32m      3\u001b[0m \u001b[1;33m\u001b[0m\u001b[0m\n\u001b[0;32m      4\u001b[0m \u001b[0mpygame\u001b[0m\u001b[1;33m.\u001b[0m\u001b[0minit\u001b[0m\u001b[1;33m(\u001b[0m\u001b[1;33m)\u001b[0m\u001b[1;33m\u001b[0m\u001b[1;33m\u001b[0m\u001b[0m\n\u001b[0;32m      5\u001b[0m \u001b[1;33m\u001b[0m\u001b[0m\n",
      "\u001b[1;31mModuleNotFoundError\u001b[0m: No module named 'pygame'"
     ]
    }
   ],
   "source": [
    "import pygame\n",
    "import sys\n",
    "\n",
    "pygame.init()\n",
    "\n",
    "# Configurações\n",
    "screen_width = 800\n",
    "screen_height = 600\n",
    "\n",
    "# Inicialização da janela\n",
    "screen = pygame.display.set_mode((screen_width, screen_height))\n",
    "pygame.display.set_caption(\"Rastro do Mouse\")\n",
    "\n",
    "# Cores\n",
    "background_color = (255, 255, 255)\n",
    "trail_color = (0, 0, 0)\n",
    "\n",
    "clock = pygame.time.Clock()\n",
    "\n",
    "trail_points = []\n",
    "\n",
    "while True:\n",
    "    for event in pygame.event.get():\n",
    "        if event.type == pygame.QUIT:\n",
    "            pygame.quit()\n",
    "            sys.exit()\n",
    "\n",
    "    mouse_x, mouse_y = pygame.mouse.get_pos()\n",
    "    trail_points.append((mouse_x, mouse_y))\n",
    "\n",
    "    # Limita o tamanho do rastro para manter apenas os últimos 165 pontos\n",
    "    trail_points = trail_points[-165:]\n",
    "\n",
    "    screen.fill(background_color)\n",
    "\n",
    "    # Desenha o rastro do mouse\n",
    "    for i, point in enumerate(trail_points):\n",
    "        alpha = int((i / len(trail_points)) * 255)\n",
    "        pygame.draw.circle(screen, trail_color + (alpha,), point, 2)\n",
    "\n",
    "    pygame.display.flip()\n",
    "\n",
    "    clock.tick(0)  # Utiliza a taxa de frames máxima do monitor (não limita)\n",
    "\n",
    "pygame.quit()\n"
   ]
  },
  {
   "cell_type": "code",
   "execution_count": 14,
   "id": "e616b1fa-b2ef-4e09-b42d-fbab76d095c0",
   "metadata": {},
   "outputs": [
    {
     "ename": "ModuleNotFoundError",
     "evalue": "No module named 'pygame.base'",
     "output_type": "error",
     "traceback": [
      "\u001b[1;31m---------------------------------------------------------------------------\u001b[0m",
      "\u001b[1;31mModuleNotFoundError\u001b[0m                       Traceback (most recent call last)",
      "\u001b[1;32m~\\AppData\\Local\\Temp\\ipykernel_6364\\2365289464.py\u001b[0m in \u001b[0;36m<module>\u001b[1;34m\u001b[0m\n\u001b[0;32m      5\u001b[0m \u001b[0msite\u001b[0m\u001b[1;33m.\u001b[0m\u001b[0maddsitedir\u001b[0m\u001b[1;33m(\u001b[0m\u001b[1;34m\"C:\\\\Python311\\\\lib\\\\site-packages\"\u001b[0m\u001b[1;33m)\u001b[0m\u001b[1;33m\u001b[0m\u001b[1;33m\u001b[0m\u001b[0m\n\u001b[0;32m      6\u001b[0m \u001b[1;33m\u001b[0m\u001b[0m\n\u001b[1;32m----> 7\u001b[1;33m \u001b[1;32mimport\u001b[0m \u001b[0mpygame\u001b[0m\u001b[1;33m\u001b[0m\u001b[1;33m\u001b[0m\u001b[0m\n\u001b[0m",
      "\u001b[1;32mC:\\Python311\\lib\\site-packages\\pygame\\__init__.py\u001b[0m in \u001b[0;36m<module>\u001b[1;34m\u001b[0m\n\u001b[0;32m     90\u001b[0m \u001b[1;33m\u001b[0m\u001b[0m\n\u001b[0;32m     91\u001b[0m \u001b[1;31m# first, the \"required\" modules\u001b[0m\u001b[1;33m\u001b[0m\u001b[1;33m\u001b[0m\u001b[0m\n\u001b[1;32m---> 92\u001b[1;33m \u001b[1;32mfrom\u001b[0m \u001b[0mpygame\u001b[0m\u001b[1;33m.\u001b[0m\u001b[0mbase\u001b[0m \u001b[1;32mimport\u001b[0m \u001b[1;33m*\u001b[0m  \u001b[1;31m# pylint: disable=wildcard-import; lgtm[py/polluting-import]\u001b[0m\u001b[1;33m\u001b[0m\u001b[1;33m\u001b[0m\u001b[0m\n\u001b[0m\u001b[0;32m     93\u001b[0m \u001b[1;32mfrom\u001b[0m \u001b[0mpygame\u001b[0m\u001b[1;33m.\u001b[0m\u001b[0mconstants\u001b[0m \u001b[1;32mimport\u001b[0m \u001b[1;33m*\u001b[0m  \u001b[1;31m# now has __all__ pylint: disable=wildcard-import; lgtm[py/polluting-import]\u001b[0m\u001b[1;33m\u001b[0m\u001b[1;33m\u001b[0m\u001b[0m\n\u001b[0;32m     94\u001b[0m \u001b[1;32mfrom\u001b[0m \u001b[0mpygame\u001b[0m\u001b[1;33m.\u001b[0m\u001b[0mversion\u001b[0m \u001b[1;32mimport\u001b[0m \u001b[1;33m*\u001b[0m  \u001b[1;31m# pylint: disable=wildcard-import; lgtm[py/polluting-import]\u001b[0m\u001b[1;33m\u001b[0m\u001b[1;33m\u001b[0m\u001b[0m\n",
      "\u001b[1;31mModuleNotFoundError\u001b[0m: No module named 'pygame.base'"
     ]
    }
   ],
   "source": [
    "import sys\n",
    "import site\n",
    "\n",
    "# Adicionar o diretório de instalação do pygame ao caminho de busca do Python\n",
    "site.addsitedir(\"C:\\\\Python311\\\\lib\\\\site-packages\")\n",
    "\n",
    "import pygame"
   ]
  },
  {
   "cell_type": "code",
   "execution_count": null,
   "id": "ffd52baf-1e72-47b1-91db-f1df39e854a5",
   "metadata": {},
   "outputs": [],
   "source": []
  }
 ],
 "metadata": {
  "kernelspec": {
   "display_name": "base",
   "language": "python",
   "name": "python3"
  },
  "language_info": {
   "codemirror_mode": {
    "name": "ipython",
    "version": 3
   },
   "file_extension": ".py",
   "mimetype": "text/x-python",
   "name": "python",
   "nbconvert_exporter": "python",
   "pygments_lexer": "ipython3",
   "version": "3.12.3"
  }
 },
 "nbformat": 4,
 "nbformat_minor": 5
}
